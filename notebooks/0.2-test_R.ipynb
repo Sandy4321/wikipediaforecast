{
 "cells": [
  {
   "cell_type": "code",
   "execution_count": 1,
   "metadata": {
    "collapsed": true
   },
   "outputs": [],
   "source": [
    "library(data.table)"
   ]
  },
  {
   "cell_type": "code",
   "execution_count": 2,
   "metadata": {},
   "outputs": [
    {
     "name": "stdout",
     "output_type": "stream",
     "text": [
      "\r",
      "Read 6.9% of 145063 rows\r",
      "Read 13.8% of 145063 rows\r",
      "Read 20.7% of 145063 rows\r",
      "Read 27.6% of 145063 rows\r",
      "Read 34.5% of 145063 rows\r",
      "Read 41.4% of 145063 rows\r",
      "Read 48.3% of 145063 rows\r",
      "Read 55.1% of 145063 rows\r",
      "Read 62.0% of 145063 rows\r",
      "Read 68.9% of 145063 rows\r",
      "Read 75.8% of 145063 rows\r",
      "Read 82.7% of 145063 rows\r",
      "Read 89.6% of 145063 rows\r",
      "Read 96.5% of 145063 rows\r",
      "Read 145063 rows and 557 (of 557) columns from 0.418 GB file in 00:00:20\n"
     ]
    }
   ],
   "source": [
    "df <- fread('../data/interim/df.csv')"
   ]
  },
  {
   "cell_type": "code",
   "execution_count": 3,
   "metadata": {},
   "outputs": [
    {
     "data": {
      "text/html": [
       "<table>\n",
       "<thead><tr><th scope=col>Page_raw</th><th scope=col>2015-07-01</th><th scope=col>2015-07-02</th><th scope=col>2015-07-03</th><th scope=col>2015-07-04</th><th scope=col>2015-07-05</th><th scope=col>2015-07-06</th><th scope=col>2015-07-07</th><th scope=col>2015-07-08</th><th scope=col>2015-07-09</th><th scope=col>...</th><th scope=col>2016-12-28</th><th scope=col>2016-12-29</th><th scope=col>2016-12-30</th><th scope=col>2016-12-31</th><th scope=col>Page_keys</th><th scope=col>Id</th><th scope=col>agent</th><th scope=col>access</th><th scope=col>project</th><th scope=col>pagename</th></tr></thead>\n",
       "<tbody>\n",
       "\t<tr><td>2NE1_zh.wikipedia.org_all-access_spider                </td><td>18                                                     </td><td>11                                                     </td><td> 5                                                     </td><td>13                                                     </td><td>14                                                     </td><td> 9                                                     </td><td> 9                                                     </td><td>22                                                     </td><td>26                                                     </td><td>...                                                    </td><td>22                                                     </td><td>19                                                     </td><td>18                                                     </td><td>20                                                     </td><td>!vote_en.wikipedia.org_all-access_all-agents_2017-01-01</td><td>bf4edcf969af                                           </td><td>spider                                                 </td><td>all-access                                             </td><td>zh.wikipedia.org                                       </td><td>2NE1                                                   </td></tr>\n",
       "\t<tr><td>2PM_zh.wikipedia.org_all-access_spider                 </td><td>11                                                     </td><td>14                                                     </td><td>15                                                     </td><td>18                                                     </td><td>11                                                     </td><td>13                                                     </td><td>22                                                     </td><td>11                                                     </td><td>10                                                     </td><td>...                                                    </td><td>52                                                     </td><td>45                                                     </td><td>26                                                     </td><td>20                                                     </td><td>!vote_en.wikipedia.org_all-access_all-agents_2017-01-02</td><td>929ed2bf52b9                                           </td><td>spider                                                 </td><td>all-access                                             </td><td>zh.wikipedia.org                                       </td><td>2PM                                                    </td></tr>\n",
       "\t<tr><td>3C_zh.wikipedia.org_all-access_spider                  </td><td> 1                                                     </td><td> 0                                                     </td><td> 1                                                     </td><td> 1                                                     </td><td> 0                                                     </td><td> 4                                                     </td><td> 0                                                     </td><td> 3                                                     </td><td> 4                                                     </td><td>...                                                    </td><td> 6                                                     </td><td> 3                                                     </td><td> 4                                                     </td><td>17                                                     </td><td>!vote_en.wikipedia.org_all-access_all-agents_2017-01-03</td><td>ff29d0f51d5c                                           </td><td>spider                                                 </td><td>all-access                                             </td><td>zh.wikipedia.org                                       </td><td>3C                                                     </td></tr>\n",
       "\t<tr><td>4minute_zh.wikipedia.org_all-access_spider             </td><td>35                                                     </td><td>13                                                     </td><td>10                                                     </td><td>94                                                     </td><td> 4                                                     </td><td>26                                                     </td><td>14                                                     </td><td> 9                                                     </td><td>11                                                     </td><td>...                                                    </td><td>17                                                     </td><td>19                                                     </td><td>10                                                     </td><td>11                                                     </td><td>!vote_en.wikipedia.org_all-access_all-agents_2017-01-04</td><td>e98873359be6                                           </td><td>spider                                                 </td><td>all-access                                             </td><td>zh.wikipedia.org                                       </td><td>4minute                                                </td></tr>\n",
       "\t<tr><td>52_Hz_I_Love_You_zh.wikipedia.org_all-access_spider    </td><td>NA                                                     </td><td>NA                                                     </td><td>NA                                                     </td><td>NA                                                     </td><td>NA                                                     </td><td>NA                                                     </td><td>NA                                                     </td><td>NA                                                     </td><td>NA                                                     </td><td>...                                                    </td><td>27                                                     </td><td>13                                                     </td><td>36                                                     </td><td>10                                                     </td><td>!vote_en.wikipedia.org_all-access_all-agents_2017-01-05</td><td>fa012434263a                                           </td><td>spider                                                 </td><td>all-access                                             </td><td>zh.wikipedia.org                                       </td><td>52_Hz_I_Love_You                                       </td></tr>\n",
       "\t<tr><td>5566_zh.wikipedia.org_all-access_spider                </td><td>12                                                     </td><td> 7                                                     </td><td> 4                                                     </td><td> 5                                                     </td><td>20                                                     </td><td> 8                                                     </td><td> 5                                                     </td><td>17                                                     </td><td>24                                                     </td><td>...                                                    </td><td>23                                                     </td><td>17                                                     </td><td>17                                                     </td><td>50                                                     </td><td>!vote_en.wikipedia.org_all-access_all-agents_2017-01-06</td><td>48f1e93517a2                                           </td><td>spider                                                 </td><td>all-access                                             </td><td>zh.wikipedia.org                                       </td><td>5566                                                   </td></tr>\n",
       "</tbody>\n",
       "</table>\n"
      ],
      "text/latex": [
       "\\begin{tabular}{r|lllllllllllllllllllllllllllllllllllllllllllllllllllllllllllllllllllllllllllllllllllllllllllllllllllllllllllllllllllllllllllllllllllllllllllllllllllllllllllllllllllllllllllllllllllllllllllllllllllllllllllllllllllllllllllllllllllllllllllllllllllllllllllllllllllllllllllllllllllllllllllllllllllllllllllllllllllllllllllllllllllllllllllllllllllllllllllllllllllllllllllllllllllllllllllllllllllllllllllllllllllllllllllllllllllllllllllllllllllllllllllllllllllllllllllllllllllllllllllllllllllllllllllllllllllllllllllllllllllllllllllllllllllllllllllllllllllllllllllll}\n",
       " Page\\_raw & 2015-07-01 & 2015-07-02 & 2015-07-03 & 2015-07-04 & 2015-07-05 & 2015-07-06 & 2015-07-07 & 2015-07-08 & 2015-07-09 & ... & 2016-12-28 & 2016-12-29 & 2016-12-30 & 2016-12-31 & Page\\_keys & Id & agent & access & project & pagename\\\\\n",
       "\\hline\n",
       "\t 2NE1\\_zh.wikipedia.org\\_all-access\\_spider                   & 18                                                              & 11                                                              &  5                                                              & 13                                                              & 14                                                              &  9                                                              &  9                                                              & 22                                                              & 26                                                              & ...                                                             & 22                                                              & 19                                                              & 18                                                              & 20                                                              & !vote\\_en.wikipedia.org\\_all-access\\_all-agents\\_2017-01-01 & bf4edcf969af                                                    & spider                                                          & all-access                                                      & zh.wikipedia.org                                                & 2NE1                                                           \\\\\n",
       "\t 2PM\\_zh.wikipedia.org\\_all-access\\_spider                    & 11                                                              & 14                                                              & 15                                                              & 18                                                              & 11                                                              & 13                                                              & 22                                                              & 11                                                              & 10                                                              & ...                                                             & 52                                                              & 45                                                              & 26                                                              & 20                                                              & !vote\\_en.wikipedia.org\\_all-access\\_all-agents\\_2017-01-02 & 929ed2bf52b9                                                    & spider                                                          & all-access                                                      & zh.wikipedia.org                                                & 2PM                                                            \\\\\n",
       "\t 3C\\_zh.wikipedia.org\\_all-access\\_spider                     &  1                                                              &  0                                                              &  1                                                              &  1                                                              &  0                                                              &  4                                                              &  0                                                              &  3                                                              &  4                                                              & ...                                                             &  6                                                              &  3                                                              &  4                                                              & 17                                                              & !vote\\_en.wikipedia.org\\_all-access\\_all-agents\\_2017-01-03 & ff29d0f51d5c                                                    & spider                                                          & all-access                                                      & zh.wikipedia.org                                                & 3C                                                             \\\\\n",
       "\t 4minute\\_zh.wikipedia.org\\_all-access\\_spider                & 35                                                              & 13                                                              & 10                                                              & 94                                                              &  4                                                              & 26                                                              & 14                                                              &  9                                                              & 11                                                              & ...                                                             & 17                                                              & 19                                                              & 10                                                              & 11                                                              & !vote\\_en.wikipedia.org\\_all-access\\_all-agents\\_2017-01-04 & e98873359be6                                                    & spider                                                          & all-access                                                      & zh.wikipedia.org                                                & 4minute                                                        \\\\\n",
       "\t 52\\_Hz\\_I\\_Love\\_You\\_zh.wikipedia.org\\_all-access\\_spider & NA                                                                & NA                                                                & NA                                                                & NA                                                                & NA                                                                & NA                                                                & NA                                                                & NA                                                                & NA                                                                & ...                                                               & 27                                                                & 13                                                                & 36                                                                & 10                                                                & !vote\\_en.wikipedia.org\\_all-access\\_all-agents\\_2017-01-05   & fa012434263a                                                      & spider                                                            & all-access                                                        & zh.wikipedia.org                                                  & 52\\_Hz\\_I\\_Love\\_You                                         \\\\\n",
       "\t 5566\\_zh.wikipedia.org\\_all-access\\_spider                   & 12                                                              &  7                                                              &  4                                                              &  5                                                              & 20                                                              &  8                                                              &  5                                                              & 17                                                              & 24                                                              & ...                                                             & 23                                                              & 17                                                              & 17                                                              & 50                                                              & !vote\\_en.wikipedia.org\\_all-access\\_all-agents\\_2017-01-06 & 48f1e93517a2                                                    & spider                                                          & all-access                                                      & zh.wikipedia.org                                                & 5566                                                           \\\\\n",
       "\\end{tabular}\n"
      ],
      "text/markdown": [
       "\n",
       "Page_raw | 2015-07-01 | 2015-07-02 | 2015-07-03 | 2015-07-04 | 2015-07-05 | 2015-07-06 | 2015-07-07 | 2015-07-08 | 2015-07-09 | ... | 2016-12-28 | 2016-12-29 | 2016-12-30 | 2016-12-31 | Page_keys | Id | agent | access | project | pagename | \n",
       "|---|---|---|---|---|---|\n",
       "| 2NE1_zh.wikipedia.org_all-access_spider                 | 18                                                      | 11                                                      |  5                                                      | 13                                                      | 14                                                      |  9                                                      |  9                                                      | 22                                                      | 26                                                      | ...                                                     | 22                                                      | 19                                                      | 18                                                      | 20                                                      | !vote_en.wikipedia.org_all-access_all-agents_2017-01-01 | bf4edcf969af                                            | spider                                                  | all-access                                              | zh.wikipedia.org                                        | 2NE1                                                    | \n",
       "| 2PM_zh.wikipedia.org_all-access_spider                  | 11                                                      | 14                                                      | 15                                                      | 18                                                      | 11                                                      | 13                                                      | 22                                                      | 11                                                      | 10                                                      | ...                                                     | 52                                                      | 45                                                      | 26                                                      | 20                                                      | !vote_en.wikipedia.org_all-access_all-agents_2017-01-02 | 929ed2bf52b9                                            | spider                                                  | all-access                                              | zh.wikipedia.org                                        | 2PM                                                     | \n",
       "| 3C_zh.wikipedia.org_all-access_spider                   |  1                                                      |  0                                                      |  1                                                      |  1                                                      |  0                                                      |  4                                                      |  0                                                      |  3                                                      |  4                                                      | ...                                                     |  6                                                      |  3                                                      |  4                                                      | 17                                                      | !vote_en.wikipedia.org_all-access_all-agents_2017-01-03 | ff29d0f51d5c                                            | spider                                                  | all-access                                              | zh.wikipedia.org                                        | 3C                                                      | \n",
       "| 4minute_zh.wikipedia.org_all-access_spider              | 35                                                      | 13                                                      | 10                                                      | 94                                                      |  4                                                      | 26                                                      | 14                                                      |  9                                                      | 11                                                      | ...                                                     | 17                                                      | 19                                                      | 10                                                      | 11                                                      | !vote_en.wikipedia.org_all-access_all-agents_2017-01-04 | e98873359be6                                            | spider                                                  | all-access                                              | zh.wikipedia.org                                        | 4minute                                                 | \n",
       "| 52_Hz_I_Love_You_zh.wikipedia.org_all-access_spider     | NA                                                      | NA                                                      | NA                                                      | NA                                                      | NA                                                      | NA                                                      | NA                                                      | NA                                                      | NA                                                      | ...                                                     | 27                                                      | 13                                                      | 36                                                      | 10                                                      | !vote_en.wikipedia.org_all-access_all-agents_2017-01-05 | fa012434263a                                            | spider                                                  | all-access                                              | zh.wikipedia.org                                        | 52_Hz_I_Love_You                                        | \n",
       "| 5566_zh.wikipedia.org_all-access_spider                 | 12                                                      |  7                                                      |  4                                                      |  5                                                      | 20                                                      |  8                                                      |  5                                                      | 17                                                      | 24                                                      | ...                                                     | 23                                                      | 17                                                      | 17                                                      | 50                                                      | !vote_en.wikipedia.org_all-access_all-agents_2017-01-06 | 48f1e93517a2                                            | spider                                                  | all-access                                              | zh.wikipedia.org                                        | 5566                                                    | \n",
       "\n",
       "\n"
      ],
      "text/plain": [
       "  Page_raw                                            2015-07-01 2015-07-02\n",
       "1 2NE1_zh.wikipedia.org_all-access_spider             18         11        \n",
       "2 2PM_zh.wikipedia.org_all-access_spider              11         14        \n",
       "3 3C_zh.wikipedia.org_all-access_spider                1          0        \n",
       "4 4minute_zh.wikipedia.org_all-access_spider          35         13        \n",
       "5 52_Hz_I_Love_You_zh.wikipedia.org_all-access_spider NA         NA        \n",
       "6 5566_zh.wikipedia.org_all-access_spider             12          7        \n",
       "  2015-07-03 2015-07-04 2015-07-05 2015-07-06 2015-07-07 2015-07-08 2015-07-09\n",
       "1  5         13         14          9          9         22         26        \n",
       "2 15         18         11         13         22         11         10        \n",
       "3  1          1          0          4          0          3          4        \n",
       "4 10         94          4         26         14          9         11        \n",
       "5 NA         NA         NA         NA         NA         NA         NA        \n",
       "6  4          5         20          8          5         17         24        \n",
       "  ... 2016-12-28 2016-12-29 2016-12-30 2016-12-31\n",
       "1 ... 22         19         18         20        \n",
       "2 ... 52         45         26         20        \n",
       "3 ...  6          3          4         17        \n",
       "4 ... 17         19         10         11        \n",
       "5 ... 27         13         36         10        \n",
       "6 ... 23         17         17         50        \n",
       "  Page_keys                                               Id           agent \n",
       "1 !vote_en.wikipedia.org_all-access_all-agents_2017-01-01 bf4edcf969af spider\n",
       "2 !vote_en.wikipedia.org_all-access_all-agents_2017-01-02 929ed2bf52b9 spider\n",
       "3 !vote_en.wikipedia.org_all-access_all-agents_2017-01-03 ff29d0f51d5c spider\n",
       "4 !vote_en.wikipedia.org_all-access_all-agents_2017-01-04 e98873359be6 spider\n",
       "5 !vote_en.wikipedia.org_all-access_all-agents_2017-01-05 fa012434263a spider\n",
       "6 !vote_en.wikipedia.org_all-access_all-agents_2017-01-06 48f1e93517a2 spider\n",
       "  access     project          pagename        \n",
       "1 all-access zh.wikipedia.org 2NE1            \n",
       "2 all-access zh.wikipedia.org 2PM             \n",
       "3 all-access zh.wikipedia.org 3C              \n",
       "4 all-access zh.wikipedia.org 4minute         \n",
       "5 all-access zh.wikipedia.org 52_Hz_I_Love_You\n",
       "6 all-access zh.wikipedia.org 5566            "
      ]
     },
     "metadata": {},
     "output_type": "display_data"
    }
   ],
   "source": [
    "head(df)"
   ]
  },
  {
   "cell_type": "code",
   "execution_count": null,
   "metadata": {
    "collapsed": true
   },
   "outputs": [],
   "source": []
  }
 ],
 "metadata": {
  "kernelspec": {
   "display_name": "R",
   "language": "R",
   "name": "ir"
  },
  "language_info": {
   "codemirror_mode": "r",
   "file_extension": ".r",
   "mimetype": "text/x-r-source",
   "name": "R",
   "pygments_lexer": "r",
   "version": "3.3.2"
  }
 },
 "nbformat": 4,
 "nbformat_minor": 2
}
