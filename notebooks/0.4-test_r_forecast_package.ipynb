{
 "cells": [
  {
   "cell_type": "markdown",
   "metadata": {},
   "source": [
    "# Test forecast package\n",
    "\n",
    "Let's take the opportunity to study the `forecast` package in R, and other classic R packages in my case.\n",
    "\n",
    "Follow https://www.datascience.com/blog/introduction-to-forecasting-with-arima-in-r-learn-data-science-tutorials"
   ]
  },
  {
   "cell_type": "code",
   "execution_count": 1,
   "metadata": {
    "scrolled": true
   },
   "outputs": [
    {
     "name": "stderr",
     "output_type": "stream",
     "text": [
      "\n",
      "Attaching package: 'dplyr'\n",
      "\n",
      "The following objects are masked from 'package:stats':\n",
      "\n",
      "    filter, lag\n",
      "\n",
      "The following objects are masked from 'package:base':\n",
      "\n",
      "    intersect, setdiff, setequal, union\n",
      "\n",
      "\n",
      "Attaching package: 'lubridate'\n",
      "\n",
      "The following object is masked from 'package:base':\n",
      "\n",
      "    date\n",
      "\n",
      "Loading required package: zoo\n",
      "\n",
      "Attaching package: 'zoo'\n",
      "\n",
      "The following objects are masked from 'package:base':\n",
      "\n",
      "    as.Date, as.Date.numeric\n",
      "\n",
      "Loading required package: timeDate\n",
      "This is forecast 7.3 \n",
      "\n"
     ]
    }
   ],
   "source": [
    "library('readr') # data input\n",
    "library('tibble') # data wrangling\n",
    "library('reshape2') # data manipulation\n",
    "library('dplyr') # data manipulation\n",
    "\n",
    "library('ggplot2') # visualization\n",
    "\n",
    "library('lubridate') # date and time\n",
    "library('tseries') # time series analysis\n",
    "library('forecast') # time series analysis\n",
    "\n",
    "options(repr.plot.width=8, repr.plot.height=4)"
   ]
  },
  {
   "cell_type": "code",
   "execution_count": 2,
   "metadata": {},
   "outputs": [
    {
     "name": "stderr",
     "output_type": "stream",
     "text": [
      "Parsed with column specification:\n",
      "cols(\n",
      "  .default = col_double(),\n",
      "  Page = col_character(),\n",
      "  agent = col_character(),\n",
      "  access = col_character(),\n",
      "  project = col_character(),\n",
      "  pagename = col_character()\n",
      ")\n",
      "See spec(...) for full column specifications.\n"
     ]
    }
   ],
   "source": [
    "df <- read_csv('../data/processed/df.csv')"
   ]
  },
  {
   "cell_type": "code",
   "execution_count": 3,
   "metadata": {
    "scrolled": true
   },
   "outputs": [
    {
     "data": {
      "text/html": [
       "<table>\n",
       "<thead><tr><th scope=col>Page</th><th scope=col>2015-07-01</th><th scope=col>2015-07-02</th><th scope=col>2015-07-03</th><th scope=col>2015-07-04</th><th scope=col>2015-07-05</th><th scope=col>2015-07-06</th><th scope=col>2015-07-07</th><th scope=col>2015-07-08</th><th scope=col>2015-07-09</th><th scope=col>...</th><th scope=col>2016-12-26</th><th scope=col>2016-12-27</th><th scope=col>2016-12-28</th><th scope=col>2016-12-29</th><th scope=col>2016-12-30</th><th scope=col>2016-12-31</th><th scope=col>agent</th><th scope=col>access</th><th scope=col>project</th><th scope=col>pagename</th></tr></thead>\n",
       "<tbody>\n",
       "\t<tr><td>2NE1_zh.wikipedia.org_all-access_spider            </td><td>18                                                 </td><td>11                                                 </td><td> 5                                                 </td><td>13                                                 </td><td>14                                                 </td><td> 9                                                 </td><td> 9                                                 </td><td>22                                                 </td><td>26                                                 </td><td>...                                                </td><td>14                                                 </td><td>20                                                 </td><td>22                                                 </td><td>19                                                 </td><td>18                                                 </td><td>20                                                 </td><td>spider                                             </td><td>all-access                                         </td><td>zh.wikipedia.org                                   </td><td>2NE1                                               </td></tr>\n",
       "\t<tr><td>2PM_zh.wikipedia.org_all-access_spider             </td><td>11                                                 </td><td>14                                                 </td><td>15                                                 </td><td>18                                                 </td><td>11                                                 </td><td>13                                                 </td><td>22                                                 </td><td>11                                                 </td><td>10                                                 </td><td>...                                                </td><td> 9                                                 </td><td>30                                                 </td><td>52                                                 </td><td>45                                                 </td><td>26                                                 </td><td>20                                                 </td><td>spider                                             </td><td>all-access                                         </td><td>zh.wikipedia.org                                   </td><td>2PM                                                </td></tr>\n",
       "\t<tr><td>3C_zh.wikipedia.org_all-access_spider              </td><td> 1                                                 </td><td> 0                                                 </td><td> 1                                                 </td><td> 1                                                 </td><td> 0                                                 </td><td> 4                                                 </td><td> 0                                                 </td><td> 3                                                 </td><td> 4                                                 </td><td>...                                                </td><td> 4                                                 </td><td> 4                                                 </td><td> 6                                                 </td><td> 3                                                 </td><td> 4                                                 </td><td>17                                                 </td><td>spider                                             </td><td>all-access                                         </td><td>zh.wikipedia.org                                   </td><td>3C                                                 </td></tr>\n",
       "\t<tr><td>4minute_zh.wikipedia.org_all-access_spider         </td><td>35                                                 </td><td>13                                                 </td><td>10                                                 </td><td>94                                                 </td><td> 4                                                 </td><td>26                                                 </td><td>14                                                 </td><td> 9                                                 </td><td>11                                                 </td><td>...                                                </td><td>16                                                 </td><td>11                                                 </td><td>17                                                 </td><td>19                                                 </td><td>10                                                 </td><td>11                                                 </td><td>spider                                             </td><td>all-access                                         </td><td>zh.wikipedia.org                                   </td><td>4minute                                            </td></tr>\n",
       "\t<tr><td>52_Hz_I_Love_You_zh.wikipedia.org_all-access_spider</td><td>NA                                                 </td><td>NA                                                 </td><td>NA                                                 </td><td>NA                                                 </td><td>NA                                                 </td><td>NA                                                 </td><td>NA                                                 </td><td>NA                                                 </td><td>NA                                                 </td><td>...                                                </td><td> 3                                                 </td><td>11                                                 </td><td>27                                                 </td><td>13                                                 </td><td>36                                                 </td><td>10                                                 </td><td>spider                                             </td><td>all-access                                         </td><td>zh.wikipedia.org                                   </td><td>52_Hz_I_Love_You                                   </td></tr>\n",
       "\t<tr><td>5566_zh.wikipedia.org_all-access_spider            </td><td>12                                                 </td><td> 7                                                 </td><td> 4                                                 </td><td> 5                                                 </td><td>20                                                 </td><td> 8                                                 </td><td> 5                                                 </td><td>17                                                 </td><td>24                                                 </td><td>...                                                </td><td>32                                                 </td><td>19                                                 </td><td>23                                                 </td><td>17                                                 </td><td>17                                                 </td><td>50                                                 </td><td>spider                                             </td><td>all-access                                         </td><td>zh.wikipedia.org                                   </td><td>5566                                               </td></tr>\n",
       "</tbody>\n",
       "</table>\n"
      ],
      "text/latex": [
       "\\begin{tabular}{r|lllllllllllllllllllllllllllllllllllllllllllllllllllllllllllllllllllllllllllllllllllllllllllllllllllllllllllllllllllllllllllllllllllllllllllllllllllllllllllllllllllllllllllllllllllllllllllllllllllllllllllllllllllllllllllllllllllllllllllllllllllllllllllllllllllllllllllllllllllllllllllllllllllllllllllllllllllllllllllllllllllllllllllllllllllllllllllllllllllllllllllllllllllllllllllllllllllllllllllllllllllllllllllllllllllllllllllllllllllllllllllllllllllllllllllllllllllllllllllllllllllllllllllllllllllllllllllllllllllllllllllllllllllllllllllllllllllllllllll}\n",
       " Page & 2015-07-01 & 2015-07-02 & 2015-07-03 & 2015-07-04 & 2015-07-05 & 2015-07-06 & 2015-07-07 & 2015-07-08 & 2015-07-09 & ... & 2016-12-26 & 2016-12-27 & 2016-12-28 & 2016-12-29 & 2016-12-30 & 2016-12-31 & agent & access & project & pagename\\\\\n",
       "\\hline\n",
       "\t 2NE1\\_zh.wikipedia.org\\_all-access\\_spider             & 18                                                        & 11                                                        &  5                                                        & 13                                                        & 14                                                        &  9                                                        &  9                                                        & 22                                                        & 26                                                        & ...                                                       & 14                                                        & 20                                                        & 22                                                        & 19                                                        & 18                                                        & 20                                                        & spider                                                    & all-access                                                & zh.wikipedia.org                                          & 2NE1                                                     \\\\\n",
       "\t 2PM\\_zh.wikipedia.org\\_all-access\\_spider              & 11                                                        & 14                                                        & 15                                                        & 18                                                        & 11                                                        & 13                                                        & 22                                                        & 11                                                        & 10                                                        & ...                                                       &  9                                                        & 30                                                        & 52                                                        & 45                                                        & 26                                                        & 20                                                        & spider                                                    & all-access                                                & zh.wikipedia.org                                          & 2PM                                                      \\\\\n",
       "\t 3C\\_zh.wikipedia.org\\_all-access\\_spider               &  1                                                        &  0                                                        &  1                                                        &  1                                                        &  0                                                        &  4                                                        &  0                                                        &  3                                                        &  4                                                        & ...                                                       &  4                                                        &  4                                                        &  6                                                        &  3                                                        &  4                                                        & 17                                                        & spider                                                    & all-access                                                & zh.wikipedia.org                                          & 3C                                                       \\\\\n",
       "\t 4minute\\_zh.wikipedia.org\\_all-access\\_spider          & 35                                                        & 13                                                        & 10                                                        & 94                                                        &  4                                                        & 26                                                        & 14                                                        &  9                                                        & 11                                                        & ...                                                       & 16                                                        & 11                                                        & 17                                                        & 19                                                        & 10                                                        & 11                                                        & spider                                                    & all-access                                                & zh.wikipedia.org                                          & 4minute                                                  \\\\\n",
       "\t 52\\_Hz\\_I\\_Love\\_You\\_zh.wikipedia.org\\_all-access\\_spider & NA                                                                & NA                                                                & NA                                                                & NA                                                                & NA                                                                & NA                                                                & NA                                                                & NA                                                                & NA                                                                & ...                                                               &  3                                                                & 11                                                                & 27                                                                & 13                                                                & 36                                                                & 10                                                                & spider                                                            & all-access                                                        & zh.wikipedia.org                                                  & 52\\_Hz\\_I\\_Love\\_You                                         \\\\\n",
       "\t 5566\\_zh.wikipedia.org\\_all-access\\_spider             & 12                                                        &  7                                                        &  4                                                        &  5                                                        & 20                                                        &  8                                                        &  5                                                        & 17                                                        & 24                                                        & ...                                                       & 32                                                        & 19                                                        & 23                                                        & 17                                                        & 17                                                        & 50                                                        & spider                                                    & all-access                                                & zh.wikipedia.org                                          & 5566                                                     \\\\\n",
       "\\end{tabular}\n"
      ],
      "text/markdown": [
       "\n",
       "Page | 2015-07-01 | 2015-07-02 | 2015-07-03 | 2015-07-04 | 2015-07-05 | 2015-07-06 | 2015-07-07 | 2015-07-08 | 2015-07-09 | ... | 2016-12-26 | 2016-12-27 | 2016-12-28 | 2016-12-29 | 2016-12-30 | 2016-12-31 | agent | access | project | pagename | \n",
       "|---|---|---|---|---|---|\n",
       "| 2NE1_zh.wikipedia.org_all-access_spider             | 18                                                  | 11                                                  |  5                                                  | 13                                                  | 14                                                  |  9                                                  |  9                                                  | 22                                                  | 26                                                  | ...                                                 | 14                                                  | 20                                                  | 22                                                  | 19                                                  | 18                                                  | 20                                                  | spider                                              | all-access                                          | zh.wikipedia.org                                    | 2NE1                                                | \n",
       "| 2PM_zh.wikipedia.org_all-access_spider              | 11                                                  | 14                                                  | 15                                                  | 18                                                  | 11                                                  | 13                                                  | 22                                                  | 11                                                  | 10                                                  | ...                                                 |  9                                                  | 30                                                  | 52                                                  | 45                                                  | 26                                                  | 20                                                  | spider                                              | all-access                                          | zh.wikipedia.org                                    | 2PM                                                 | \n",
       "| 3C_zh.wikipedia.org_all-access_spider               |  1                                                  |  0                                                  |  1                                                  |  1                                                  |  0                                                  |  4                                                  |  0                                                  |  3                                                  |  4                                                  | ...                                                 |  4                                                  |  4                                                  |  6                                                  |  3                                                  |  4                                                  | 17                                                  | spider                                              | all-access                                          | zh.wikipedia.org                                    | 3C                                                  | \n",
       "| 4minute_zh.wikipedia.org_all-access_spider          | 35                                                  | 13                                                  | 10                                                  | 94                                                  |  4                                                  | 26                                                  | 14                                                  |  9                                                  | 11                                                  | ...                                                 | 16                                                  | 11                                                  | 17                                                  | 19                                                  | 10                                                  | 11                                                  | spider                                              | all-access                                          | zh.wikipedia.org                                    | 4minute                                             | \n",
       "| 52_Hz_I_Love_You_zh.wikipedia.org_all-access_spider | NA                                                  | NA                                                  | NA                                                  | NA                                                  | NA                                                  | NA                                                  | NA                                                  | NA                                                  | NA                                                  | ...                                                 |  3                                                  | 11                                                  | 27                                                  | 13                                                  | 36                                                  | 10                                                  | spider                                              | all-access                                          | zh.wikipedia.org                                    | 52_Hz_I_Love_You                                    | \n",
       "| 5566_zh.wikipedia.org_all-access_spider             | 12                                                  |  7                                                  |  4                                                  |  5                                                  | 20                                                  |  8                                                  |  5                                                  | 17                                                  | 24                                                  | ...                                                 | 32                                                  | 19                                                  | 23                                                  | 17                                                  | 17                                                  | 50                                                  | spider                                              | all-access                                          | zh.wikipedia.org                                    | 5566                                                | \n",
       "\n",
       "\n"
      ],
      "text/plain": [
       "  Page                                                2015-07-01 2015-07-02\n",
       "1 2NE1_zh.wikipedia.org_all-access_spider             18         11        \n",
       "2 2PM_zh.wikipedia.org_all-access_spider              11         14        \n",
       "3 3C_zh.wikipedia.org_all-access_spider                1          0        \n",
       "4 4minute_zh.wikipedia.org_all-access_spider          35         13        \n",
       "5 52_Hz_I_Love_You_zh.wikipedia.org_all-access_spider NA         NA        \n",
       "6 5566_zh.wikipedia.org_all-access_spider             12          7        \n",
       "  2015-07-03 2015-07-04 2015-07-05 2015-07-06 2015-07-07 2015-07-08 2015-07-09\n",
       "1  5         13         14          9          9         22         26        \n",
       "2 15         18         11         13         22         11         10        \n",
       "3  1          1          0          4          0          3          4        \n",
       "4 10         94          4         26         14          9         11        \n",
       "5 NA         NA         NA         NA         NA         NA         NA        \n",
       "6  4          5         20          8          5         17         24        \n",
       "  ... 2016-12-26 2016-12-27 2016-12-28 2016-12-29 2016-12-30 2016-12-31 agent \n",
       "1 ... 14         20         22         19         18         20         spider\n",
       "2 ...  9         30         52         45         26         20         spider\n",
       "3 ...  4          4          6          3          4         17         spider\n",
       "4 ... 16         11         17         19         10         11         spider\n",
       "5 ...  3         11         27         13         36         10         spider\n",
       "6 ... 32         19         23         17         17         50         spider\n",
       "  access     project          pagename        \n",
       "1 all-access zh.wikipedia.org 2NE1            \n",
       "2 all-access zh.wikipedia.org 2PM             \n",
       "3 all-access zh.wikipedia.org 3C              \n",
       "4 all-access zh.wikipedia.org 4minute         \n",
       "5 all-access zh.wikipedia.org 52_Hz_I_Love_You\n",
       "6 all-access zh.wikipedia.org 5566            "
      ]
     },
     "metadata": {},
     "output_type": "display_data"
    }
   ],
   "source": [
    "head(df)"
   ]
  },
  {
   "cell_type": "markdown",
   "metadata": {},
   "source": [
    "Let's train only on a row time series, like Pokemon ^^"
   ]
  },
  {
   "cell_type": "code",
   "execution_count": 4,
   "metadata": {},
   "outputs": [
    {
     "name": "stderr",
     "output_type": "stream",
     "text": [
      "No id variables; using all as measure variables\n"
     ]
    }
   ],
   "source": [
    "input <- melt(df %>% select(-c(Page, agent, access, project, pagename)) %>% slice(1))"
   ]
  },
  {
   "cell_type": "code",
   "execution_count": 5,
   "metadata": {
    "scrolled": true
   },
   "outputs": [
    {
     "data": {
      "text/html": [
       "<table>\n",
       "<thead><tr><th scope=col>variable</th><th scope=col>value</th></tr></thead>\n",
       "<tbody>\n",
       "\t<tr><td>2015-07-01</td><td>18        </td></tr>\n",
       "\t<tr><td>2015-07-02</td><td>11        </td></tr>\n",
       "\t<tr><td>2015-07-03</td><td> 5        </td></tr>\n",
       "\t<tr><td>2015-07-04</td><td>13        </td></tr>\n",
       "\t<tr><td>2015-07-05</td><td>14        </td></tr>\n",
       "\t<tr><td>2015-07-06</td><td> 9        </td></tr>\n",
       "</tbody>\n",
       "</table>\n"
      ],
      "text/latex": [
       "\\begin{tabular}{r|ll}\n",
       " variable & value\\\\\n",
       "\\hline\n",
       "\t 2015-07-01 & 18        \\\\\n",
       "\t 2015-07-02 & 11        \\\\\n",
       "\t 2015-07-03 &  5        \\\\\n",
       "\t 2015-07-04 & 13        \\\\\n",
       "\t 2015-07-05 & 14        \\\\\n",
       "\t 2015-07-06 &  9        \\\\\n",
       "\\end{tabular}\n"
      ],
      "text/markdown": [
       "\n",
       "variable | value | \n",
       "|---|---|---|---|---|---|\n",
       "| 2015-07-01 | 18         | \n",
       "| 2015-07-02 | 11         | \n",
       "| 2015-07-03 |  5         | \n",
       "| 2015-07-04 | 13         | \n",
       "| 2015-07-05 | 14         | \n",
       "| 2015-07-06 |  9         | \n",
       "\n",
       "\n"
      ],
      "text/plain": [
       "  variable   value\n",
       "1 2015-07-01 18   \n",
       "2 2015-07-02 11   \n",
       "3 2015-07-03  5   \n",
       "4 2015-07-04 13   \n",
       "5 2015-07-05 14   \n",
       "6 2015-07-06  9   "
      ]
     },
     "metadata": {},
     "output_type": "display_data"
    }
   ],
   "source": [
    "head(input)"
   ]
  },
  {
   "cell_type": "markdown",
   "metadata": {},
   "source": [
    "## Plot some data"
   ]
  },
  {
   "cell_type": "code",
   "execution_count": 6,
   "metadata": {
    "collapsed": true
   },
   "outputs": [],
   "source": [
    "input$Date = as.Date(input$variable)"
   ]
  },
  {
   "cell_type": "code",
   "execution_count": 7,
   "metadata": {},
   "outputs": [
    {
     "data": {},
     "metadata": {},
     "output_type": "display_data"
    },
    {
     "data": {
      "image/png": "[encoded data removed]",
      "text/plain": [
       "plot without title"
      ]
     },
     "metadata": {},
     "output_type": "display_data"
    }
   ],
   "source": [
    "ggplot(input, aes(Date, value)) + geom_line() + scale_x_date('month')  + ylab(\"Visits\") + xlab(\"Date\")"
   ]
  },
  {
   "cell_type": "markdown",
   "metadata": {
    "collapsed": true
   },
   "source": [
    "Some big values here. R provides a convenient method for removing time series outliers: tsclean() as part of its forecast package. tsclean() identifies and replaces outliers using series smoothing and decomposition. This method is also capable of inputing missing values in the series if there are any.\n",
    "\n",
    "Note that we are using the ts() command to create a time series object to pass to tsclean():"
   ]
  },
  {
   "cell_type": "code",
   "execution_count": 8,
   "metadata": {
    "collapsed": true
   },
   "outputs": [],
   "source": [
    "count_ts = ts(input[, c('value')])\n",
    "input$visits_cleaned = tsclean(count_ts)"
   ]
  },
  {
   "cell_type": "code",
   "execution_count": 9,
   "metadata": {},
   "outputs": [
    {
     "name": "stderr",
     "output_type": "stream",
     "text": [
      "Don't know how to automatically pick scale for object of type ts. Defaulting to continuous.\n"
     ]
    },
    {
     "data": {},
     "metadata": {},
     "output_type": "display_data"
    },
    {
     "data": {
      "image/png": "[encoded data removed]",
      "text/plain": [
       "plot without title"
      ]
     },
     "metadata": {},
     "output_type": "display_data"
    }
   ],
   "source": [
    "ggplot(input, aes(Date, visits_cleaned)) + geom_line() + scale_x_date('month')  + ylab(\"Visits\") + xlab(\"Date\")"
   ]
  },
  {
   "cell_type": "code",
   "execution_count": 10,
   "metadata": {
    "collapsed": true
   },
   "outputs": [],
   "source": [
    "input$visits_ma = ma(input$visits_cleaned, order=7)\n",
    "input$visits_ma30 = ma(input$visits_cleaned, order=30)"
   ]
  },
  {
   "cell_type": "code",
   "execution_count": 11,
   "metadata": {},
   "outputs": [
    {
     "name": "stderr",
     "output_type": "stream",
     "text": [
      "Don't know how to automatically pick scale for object of type ts. Defaulting to continuous.\n",
      "Warning message:\n",
      "\"Removed 6 rows containing missing values (geom_path).\"Warning message:\n",
      "\"Removed 30 rows containing missing values (geom_path).\""
     ]
    },
    {
     "data": {},
     "metadata": {},
     "output_type": "display_data"
    },
    {
     "data": {
      "image/png": "[encoded data removed]",
      "text/plain": [
       "plot without title"
      ]
     },
     "metadata": {},
     "output_type": "display_data"
    }
   ],
   "source": [
    "ggplot() +\n",
    "  geom_line(data = input, aes(x = Date, y = visits_cleaned, colour = \"Counts\")) +\n",
    "  geom_line(data = input, aes(x = Date, y = visits_ma,   colour = \"Weekly Moving Average\"))  +\n",
    "  geom_line(data = input, aes(x = Date, y = visits_ma30, colour = \"Monthly Moving Average\"))  + \n",
    "  ylab('Visits Count')"
   ]
  },
  {
   "cell_type": "markdown",
   "metadata": {},
   "source": [
    "## Timeseries decomposition"
   ]
  },
  {
   "cell_type": "code",
   "execution_count": null,
   "metadata": {
    "collapsed": true
   },
   "outputs": [],
   "source": []
  }
 ],
 "metadata": {
  "kernelspec": {
   "display_name": "R",
   "language": "R",
   "name": "ir"
  },
  "language_info": {
   "codemirror_mode": "r",
   "file_extension": ".r",
   "mimetype": "text/x-r-source",
   "name": "R",
   "pygments_lexer": "r",
   "version": "3.3.2"
  }
 },
 "nbformat": 4,
 "nbformat_minor": 2
}
